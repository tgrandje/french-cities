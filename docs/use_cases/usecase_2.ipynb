{
 "cells": [
  {
   "cell_type": "markdown",
   "id": "856bc001-d138-442f-af28-0aa6da5bd3b1",
   "metadata": {},
   "source": [
    "# Cas d'usage n°2\n",
    "\n",
    "Après récupération d'un jeu de données quelconque (ici les \n",
    "marchés publics conclus recensés sur la plateforme des achats de l’Etat) \n",
    "retrouver les codes communes des attributaires connaissant les libellés \r\n",
    "communaux et les codes postaux.\n"
   ]
  },
  {
   "cell_type": "code",
   "execution_count": 1,
   "id": "0a743200-1729-4976-894c-f0505fddefad",
   "metadata": {},
   "outputs": [],
   "source": [
    "import io\n",
    "import numpy as np\n",
    "import os\n",
    "import pandas as pd\n",
    "from requests_cache import CachedSession\n",
    "\n",
    "from french_cities import find_city"
   ]
  },
  {
   "cell_type": "markdown",
   "id": "fe4aedec-2bf6-44f2-9a9f-e66c304e121d",
   "metadata": {},
   "source": [
    "## Récupération des marchés publics conclus"
   ]
  },
  {
   "cell_type": "code",
   "execution_count": 2,
   "id": "9f46e247-1adc-49e6-91e8-9f18b68e483e",
   "metadata": {},
   "outputs": [
    {
     "data": {
      "text/html": [
       "<div>\n",
       "<style scoped>\n",
       "    .dataframe tbody tr th:only-of-type {\n",
       "        vertical-align: middle;\n",
       "    }\n",
       "\n",
       "    .dataframe tbody tr th {\n",
       "        vertical-align: top;\n",
       "    }\n",
       "\n",
       "    .dataframe thead th {\n",
       "        text-align: right;\n",
       "    }\n",
       "</style>\n",
       "<table border=\"1\" class=\"dataframe\">\n",
       "  <thead>\n",
       "    <tr style=\"text-align: right;\">\n",
       "      <th></th>\n",
       "      <th>Année de notification</th>\n",
       "      <th>Entité Publique</th>\n",
       "      <th>Entite d'achat</th>\n",
       "      <th>Nom Attributaire</th>\n",
       "      <th>SIRET Attributaire</th>\n",
       "      <th>Date de notification</th>\n",
       "      <th>Code Postal Attributaire</th>\n",
       "      <th>Ville</th>\n",
       "      <th>Nature du Marché</th>\n",
       "      <th>Objet du marché</th>\n",
       "      <th>Tranche budgetaire</th>\n",
       "      <th>Montant</th>\n",
       "    </tr>\n",
       "  </thead>\n",
       "  <tbody>\n",
       "    <tr>\n",
       "      <th>0</th>\n",
       "      <td>2015</td>\n",
       "      <td>Ministère des Finances et des Comptes publics ...</td>\n",
       "      <td>MFCP-MEIN / SG / SEP / SEP1 - Sous-Direction d...</td>\n",
       "      <td>SEDONA</td>\n",
       "      <td>42053121200033</td>\n",
       "      <td>2015-04-30</td>\n",
       "      <td>75009</td>\n",
       "      <td>PARIS 9</td>\n",
       "      <td>Services</td>\n",
       "      <td>Prestations d'assistance à la maitrise d'ouvra...</td>\n",
       "      <td>50 000 HT à 89 999,99 HT</td>\n",
       "      <td>63 070,00</td>\n",
       "    </tr>\n",
       "    <tr>\n",
       "      <th>1</th>\n",
       "      <td>2015</td>\n",
       "      <td>Ministère des Finances et des Comptes publics ...</td>\n",
       "      <td>MFCP-MEIN / SG / SEP / SEP1 - Sous-Direction d...</td>\n",
       "      <td>ATOS CONSULTING</td>\n",
       "      <td>41033322300049</td>\n",
       "      <td>2015-01-21</td>\n",
       "      <td>75009</td>\n",
       "      <td>PARIS 9</td>\n",
       "      <td>Services</td>\n",
       "      <td>Etude à caractère prospectif des méthodes et o...</td>\n",
       "      <td>90 000 HT à 124 999,99 HT</td>\n",
       "      <td>111 576,94</td>\n",
       "    </tr>\n",
       "    <tr>\n",
       "      <th>2</th>\n",
       "      <td>2015</td>\n",
       "      <td>Ministère des Finances et des Comptes publics ...</td>\n",
       "      <td>MFCP-MEIN / DGFIP / DGFIP-R / DGFIP-029 - DGFI...</td>\n",
       "      <td>R.T.B. 56 ENTREPRISE GENERALE</td>\n",
       "      <td>52845802900014</td>\n",
       "      <td>2015-03-25</td>\n",
       "      <td>56850</td>\n",
       "      <td>CAUDAN</td>\n",
       "      <td>Travaux</td>\n",
       "      <td>Réorganisation de l'accueil et la mise aux nor...</td>\n",
       "      <td>4 000 HT à 19 999,99 HT</td>\n",
       "      <td>19 346,95</td>\n",
       "    </tr>\n",
       "    <tr>\n",
       "      <th>3</th>\n",
       "      <td>2015</td>\n",
       "      <td>Ministère des Finances et des Comptes publics ...</td>\n",
       "      <td>MFCP-MEIN / DGFIP / DGFIP-R / DGFIP-078 - DGFI...</td>\n",
       "      <td>MPO FRANCE</td>\n",
       "      <td>41279837300012</td>\n",
       "      <td>2015-01-13</td>\n",
       "      <td>53700</td>\n",
       "      <td>AVERTON</td>\n",
       "      <td>Fournitures</td>\n",
       "      <td>Fournitures de supports numériques : lot n° 1 ...</td>\n",
       "      <td>0 à 3 999,99 HT</td>\n",
       "      <td>2 000,00</td>\n",
       "    </tr>\n",
       "    <tr>\n",
       "      <th>4</th>\n",
       "      <td>2015</td>\n",
       "      <td>Ministère des Finances et des Comptes publics ...</td>\n",
       "      <td>MFCP-MEIN / DGFIP / DGFIP-R / DGFIP-078 - DGFI...</td>\n",
       "      <td>MPO FRANCE</td>\n",
       "      <td>41279837300012</td>\n",
       "      <td>2015-01-13</td>\n",
       "      <td>53700</td>\n",
       "      <td>AVERTON</td>\n",
       "      <td>Fournitures</td>\n",
       "      <td>Fournitures de supports numériques : lot n° 2 ...</td>\n",
       "      <td>20 000 HT à 49 999,99 HT</td>\n",
       "      <td>37 000,00</td>\n",
       "    </tr>\n",
       "  </tbody>\n",
       "</table>\n",
       "</div>"
      ],
      "text/plain": [
       "   Année de notification  ...     Montant\n",
       "0                   2015  ...   63 070,00\n",
       "1                   2015  ...  111 576,94\n",
       "2                   2015  ...   19 346,95\n",
       "3                   2015  ...    2 000,00\n",
       "4                   2015  ...   37 000,00\n",
       "\n",
       "[5 rows x 12 columns]"
      ]
     },
     "execution_count": 2,
     "metadata": {},
     "output_type": "execute_result"
    }
   ],
   "source": [
    "url = (\n",
    "    \"https://static.data.gouv.fr/\"\n",
    "    \"resources/\"\n",
    "    \"marches-publics-conclus-recenses-sur-la-plateforme-des-achats-de-letat/\"\n",
    "    \"20160701-120733/Export_ETALAB_2015_complete.xlsx\"\n",
    ")\n",
    "s = CachedSession()\n",
    "r = s.get(url)\n",
    "obj = io.BytesIO(r.content)\n",
    "obj.seek(0)\n",
    "df = pd.read_excel(obj)\n",
    "for c in df.columns:\n",
    "    try:\n",
    "        df[c] = df[c].str.replace(\"^ *$\", \"\", regex=True).replace(\"\", None)\n",
    "    except AttributeError:\n",
    "        pass\n",
    "df = df.dropna(how=\"all\", axis=1)\n",
    "df.head()"
   ]
  },
  {
   "cell_type": "markdown",
   "id": "d43e2763-6898-43cf-886b-e0bb7853fc05",
   "metadata": {},
   "source": [
    "## Retraitement des codes postaux manifestement erronés"
   ]
  },
  {
   "cell_type": "code",
   "execution_count": 3,
   "id": "aca9fcd8-345e-4e93-be3d-1d82aacc2bcd",
   "metadata": {},
   "outputs": [],
   "source": [
    "ix = df[\n",
    "    ~df[\"Code Postal Attributaire\"].fillna(\"\").str.fullmatch(\"[0-9]{5}\")\n",
    "].index\n",
    "df.loc[ix, \"Code Postal Attributaire\"] = np.nan"
   ]
  },
  {
   "cell_type": "markdown",
   "id": "80c5eb1a-905a-4dd5-bc9a-4375df3cef43",
   "metadata": {},
   "source": [
    "## Configuration de l'API INSEE"
   ]
  },
  {
   "cell_type": "code",
   "execution_count": 4,
   "id": "86256e84-7a68-4f06-86c9-bcb2a1c0327b",
   "metadata": {},
   "outputs": [],
   "source": [
    "os.environ[\"insee_key\"] = \"********************\"\n",
    "os.environ[\"insee_secret\"] = \"********************\""
   ]
  },
  {
   "cell_type": "markdown",
   "id": "8de92dfa-5bd2-4814-b50a-4a3e024d666b",
   "metadata": {},
   "source": [
    "## Reconnaissance des codes communes avec french-cities"
   ]
  },
  {
   "cell_type": "code",
   "execution_count": 5,
   "id": "2e8d6f0a-c127-40d5-a8ab-a5b6e4040a4d",
   "metadata": {},
   "outputs": [
    {
     "name": "stderr",
     "output_type": "stream",
     "text": [
      "                                                                             \r"
     ]
    },
    {
     "data": {
      "text/html": [
       "<div>\n",
       "<style scoped>\n",
       "    .dataframe tbody tr th:only-of-type {\n",
       "        vertical-align: middle;\n",
       "    }\n",
       "\n",
       "    .dataframe tbody tr th {\n",
       "        vertical-align: top;\n",
       "    }\n",
       "\n",
       "    .dataframe thead th {\n",
       "        text-align: right;\n",
       "    }\n",
       "</style>\n",
       "<table border=\"1\" class=\"dataframe\">\n",
       "  <thead>\n",
       "    <tr style=\"text-align: right;\">\n",
       "      <th></th>\n",
       "      <th>Année de notification</th>\n",
       "      <th>Entité Publique</th>\n",
       "      <th>Entite d'achat</th>\n",
       "      <th>Nom Attributaire</th>\n",
       "      <th>SIRET Attributaire</th>\n",
       "      <th>Date de notification</th>\n",
       "      <th>Code Postal Attributaire</th>\n",
       "      <th>Ville</th>\n",
       "      <th>Nature du Marché</th>\n",
       "      <th>Objet du marché</th>\n",
       "      <th>Tranche budgetaire</th>\n",
       "      <th>Montant</th>\n",
       "      <th>codeInsee</th>\n",
       "    </tr>\n",
       "    <tr>\n",
       "      <th>index</th>\n",
       "      <th></th>\n",
       "      <th></th>\n",
       "      <th></th>\n",
       "      <th></th>\n",
       "      <th></th>\n",
       "      <th></th>\n",
       "      <th></th>\n",
       "      <th></th>\n",
       "      <th></th>\n",
       "      <th></th>\n",
       "      <th></th>\n",
       "      <th></th>\n",
       "      <th></th>\n",
       "    </tr>\n",
       "  </thead>\n",
       "  <tbody>\n",
       "    <tr>\n",
       "      <th>0</th>\n",
       "      <td>2015</td>\n",
       "      <td>Ministère des Finances et des Comptes publics ...</td>\n",
       "      <td>MFCP-MEIN / SG / SEP / SEP1 - Sous-Direction d...</td>\n",
       "      <td>SEDONA</td>\n",
       "      <td>42053121200033</td>\n",
       "      <td>2015-04-30</td>\n",
       "      <td>75009</td>\n",
       "      <td>PARIS 9</td>\n",
       "      <td>Services</td>\n",
       "      <td>Prestations d'assistance à la maitrise d'ouvra...</td>\n",
       "      <td>50 000 HT à 89 999,99 HT</td>\n",
       "      <td>63 070,00</td>\n",
       "      <td>75056</td>\n",
       "    </tr>\n",
       "    <tr>\n",
       "      <th>1</th>\n",
       "      <td>2015</td>\n",
       "      <td>Ministère des Finances et des Comptes publics ...</td>\n",
       "      <td>MFCP-MEIN / SG / SEP / SEP1 - Sous-Direction d...</td>\n",
       "      <td>ATOS CONSULTING</td>\n",
       "      <td>41033322300049</td>\n",
       "      <td>2015-01-21</td>\n",
       "      <td>75009</td>\n",
       "      <td>PARIS 9</td>\n",
       "      <td>Services</td>\n",
       "      <td>Etude à caractère prospectif des méthodes et o...</td>\n",
       "      <td>90 000 HT à 124 999,99 HT</td>\n",
       "      <td>111 576,94</td>\n",
       "      <td>75056</td>\n",
       "    </tr>\n",
       "    <tr>\n",
       "      <th>2</th>\n",
       "      <td>2015</td>\n",
       "      <td>Ministère des Finances et des Comptes publics ...</td>\n",
       "      <td>MFCP-MEIN / DGFIP / DGFIP-R / DGFIP-029 - DGFI...</td>\n",
       "      <td>R.T.B. 56 ENTREPRISE GENERALE</td>\n",
       "      <td>52845802900014</td>\n",
       "      <td>2015-03-25</td>\n",
       "      <td>56850</td>\n",
       "      <td>CAUDAN</td>\n",
       "      <td>Travaux</td>\n",
       "      <td>Réorganisation de l'accueil et la mise aux nor...</td>\n",
       "      <td>4 000 HT à 19 999,99 HT</td>\n",
       "      <td>19 346,95</td>\n",
       "      <td>56036</td>\n",
       "    </tr>\n",
       "    <tr>\n",
       "      <th>3</th>\n",
       "      <td>2015</td>\n",
       "      <td>Ministère des Finances et des Comptes publics ...</td>\n",
       "      <td>MFCP-MEIN / DGFIP / DGFIP-R / DGFIP-078 - DGFI...</td>\n",
       "      <td>MPO FRANCE</td>\n",
       "      <td>41279837300012</td>\n",
       "      <td>2015-01-13</td>\n",
       "      <td>53700</td>\n",
       "      <td>AVERTON</td>\n",
       "      <td>Fournitures</td>\n",
       "      <td>Fournitures de supports numériques : lot n° 1 ...</td>\n",
       "      <td>0 à 3 999,99 HT</td>\n",
       "      <td>2 000,00</td>\n",
       "      <td>53013</td>\n",
       "    </tr>\n",
       "    <tr>\n",
       "      <th>4</th>\n",
       "      <td>2015</td>\n",
       "      <td>Ministère des Finances et des Comptes publics ...</td>\n",
       "      <td>MFCP-MEIN / DGFIP / DGFIP-R / DGFIP-078 - DGFI...</td>\n",
       "      <td>MPO FRANCE</td>\n",
       "      <td>41279837300012</td>\n",
       "      <td>2015-01-13</td>\n",
       "      <td>53700</td>\n",
       "      <td>AVERTON</td>\n",
       "      <td>Fournitures</td>\n",
       "      <td>Fournitures de supports numériques : lot n° 2 ...</td>\n",
       "      <td>20 000 HT à 49 999,99 HT</td>\n",
       "      <td>37 000,00</td>\n",
       "      <td>53013</td>\n",
       "    </tr>\n",
       "  </tbody>\n",
       "</table>\n",
       "</div>"
      ],
      "text/plain": [
       "       Année de notification  ... codeInsee\n",
       "index                         ...          \n",
       "0                       2015  ...     75056\n",
       "1                       2015  ...     75056\n",
       "2                       2015  ...     56036\n",
       "3                       2015  ...     53013\n",
       "4                       2015  ...     53013\n",
       "\n",
       "[5 rows x 13 columns]"
      ]
     },
     "execution_count": 5,
     "metadata": {},
     "output_type": "execute_result"
    }
   ],
   "source": [
    "df = find_city(\n",
    "    df,\n",
    "    year=\"last\",\n",
    "    x=False,\n",
    "    y=False,\n",
    "    epsg=False,\n",
    "    city=\"Ville\",\n",
    "    dep=False,\n",
    "    address=False,\n",
    "    postcode=\"Code Postal Attributaire\",\n",
    "    use_nominatim_backend=True,\n",
    "    field_output=\"codeInsee\",\n",
    ")\n",
    "df.head()"
   ]
  },
  {
   "cell_type": "code",
   "execution_count": 6,
   "id": "875591f2-420e-41e1-9ca6-bb29e7376be0",
   "metadata": {},
   "outputs": [
    {
     "data": {
      "text/html": [
       "<div>\n",
       "<style scoped>\n",
       "    .dataframe tbody tr th:only-of-type {\n",
       "        vertical-align: middle;\n",
       "    }\n",
       "\n",
       "    .dataframe tbody tr th {\n",
       "        vertical-align: top;\n",
       "    }\n",
       "\n",
       "    .dataframe thead th {\n",
       "        text-align: right;\n",
       "    }\n",
       "</style>\n",
       "<table border=\"1\" class=\"dataframe\">\n",
       "  <thead>\n",
       "    <tr style=\"text-align: right;\">\n",
       "      <th></th>\n",
       "      <th>est vide</th>\n",
       "    </tr>\n",
       "    <tr>\n",
       "      <th>codeInsee</th>\n",
       "      <th></th>\n",
       "    </tr>\n",
       "  </thead>\n",
       "  <tbody>\n",
       "    <tr>\n",
       "      <th>False</th>\n",
       "      <td>11267</td>\n",
       "    </tr>\n",
       "    <tr>\n",
       "      <th>True</th>\n",
       "      <td>567</td>\n",
       "    </tr>\n",
       "  </tbody>\n",
       "</table>\n",
       "</div>"
      ],
      "text/plain": [
       "           est vide\n",
       "codeInsee          \n",
       "False         11267\n",
       "True            567"
      ]
     },
     "execution_count": 6,
     "metadata": {},
     "output_type": "execute_result"
    }
   ],
   "source": [
    "df.codeInsee.isnull().value_counts().to_frame(\"est vide\")"
   ]
  },
  {
   "cell_type": "code",
   "execution_count": 7,
   "id": "ec9626c7-6b06-4b80-b067-6d2d2446846b",
   "metadata": {},
   "outputs": [
    {
     "data": {
      "text/plain": [
       "<Axes: xlabel='codeInsee'>"
      ]
     },
     "execution_count": 7,
     "metadata": {},
     "output_type": "execute_result"
    },
    {
     "data": {
      "image/png": "[encoded data removed]",
      "text/plain": [
       "<Figure size 432x288 with 1 Axes>"
      ]
     },
     "metadata": {},
     "output_type": "display_data"
    }
   ],
   "source": [
    "df[\"Montant\"] = pd.to_numeric(df[\"Montant\"].str.replace(\",\", \".\").str.replace(\" \", \"\"))\n",
    "df.groupby(\"codeInsee\")[\"Montant\"].sum().sort_values(ascending=False).head(10).plot(kind=\"bar\")"
   ]
  },
  {
   "cell_type": "code",
   "execution_count": null,
   "id": "92b38b46-1899-488c-929f-f0f8c5f8b8b7",
   "metadata": {},
   "outputs": [],
   "source": []
  }
 ],
 "metadata": {
  "kernelspec": {
   "display_name": "Python 3 (Spyder)",
   "language": "python3",
   "name": "python3"
  },
  "language_info": {
   "codemirror_mode": {
    "name": "ipython",
    "version": 3
   },
   "file_extension": ".py",
   "mimetype": "text/x-python",
   "name": "python",
   "nbconvert_exporter": "python",
   "pygments_lexer": "ipython3",
   "version": "3.9.10"
  }
 },
 "nbformat": 4,
 "nbformat_minor": 5
}
